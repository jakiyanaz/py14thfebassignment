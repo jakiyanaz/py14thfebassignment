{
 "cells": [
  {
   "cell_type": "markdown",
   "id": "68638215-deb9-4d10-9b9b-54bd1f4734a4",
   "metadata": {},
   "source": [
    "Q1. what is multithreading in python? why is it used? Name the module used to handle threads in python."
   ]
  },
  {
   "cell_type": "markdown",
   "id": "aec35b77-1bcb-4dd6-83ee-cb920be6cd82",
   "metadata": {},
   "source": [
    "Ans: Multithreading refers to concurrently executing multiple threads by rapidly switching the control of the CPU between threads.\n",
    "\n",
    "Modules handling multithreading in python:\n",
    "\n",
    "1. The thread module\n",
    "\n",
    "2. The threading module"
   ]
  },
  {
   "cell_type": "markdown",
   "id": "975541b5-464e-4a61-887e-fc70f7b0d10a",
   "metadata": {},
   "source": [
    "Q2. why threading module used? write the use of the following functions.\n",
    "1. activeCount()\n",
    "2. currentThread()\n",
    "3. enumerate()"
   ]
  },
  {
   "cell_type": "markdown",
   "id": "cff603dc-9392-48c0-a480-5b8bf487c3fa",
   "metadata": {},
   "source": [
    "Ans: Threading module is used for creating, controlling and managing threads in python.\n",
    "\n",
    "1. activeCount() : This function returns the number of Thread objects currently alive.\n",
    "\n",
    "2. currentThread() : This function will return the current Thread object, corresponding to the caller's thread of control(which is in the control of caller currently).\n",
    "\n",
    "3. enumerate() : This method returns a list of all Thread objects currently alive. The list includes daemonic threads(when the program quits, all the daemon threads associated with it are killed automatically), dummy thread objects created by the current thread, and the main thread."
   ]
  },
  {
   "cell_type": "markdown",
   "id": "012eda79-1869-41e1-a955-5ead20cdbd10",
   "metadata": {},
   "source": [
    "Q3. Explain the following functions.\n",
    "\n",
    "1. run()\n",
    "2. start()\n",
    "3. join()\n",
    "4. isAlive()"
   ]
  },
  {
   "cell_type": "markdown",
   "id": "ad8a9a38-7914-416a-ac0d-3ac8e91c4126",
   "metadata": {},
   "source": [
    "Ans:\n",
    "\n",
    "    1. run() − The run() method is the entry point for a thread.\n",
    "    \n",
    "    2. start() − The start() method starts a thread by calling the run method.\n",
    "    \n",
    "    3. join([time]) − The join() waits for threads to terminate.\n",
    "    \n",
    "    4. isAlive() − The isAlive() method checks whether a thread is still executing."
   ]
  },
  {
   "cell_type": "markdown",
   "id": "8f54ba93-7555-4568-8743-94c7138b6ce8",
   "metadata": {},
   "source": [
    "Q4. write a python program to create two threads. Thread one must print the list of squares and thread \n",
    "two must print the list of cubes."
   ]
  },
  {
   "cell_type": "code",
   "execution_count": 10,
   "id": "0c3ce71a-a3a7-4c57-abcb-2e028cb73086",
   "metadata": {},
   "outputs": [
    {
     "name": "stdout",
     "output_type": "stream",
     "text": [
      "0\n",
      "1\n",
      "4\n",
      "9\n",
      "16\n",
      "25\n",
      "36\n",
      "49\n",
      "64\n",
      "81\n",
      "100\n",
      "121\n",
      "0\n",
      "1\n",
      "8\n",
      "27\n",
      "64\n",
      "125\n",
      "216\n",
      "343\n",
      "512\n",
      "729\n",
      "1000\n",
      "1331\n"
     ]
    }
   ],
   "source": [
    "# Thread to print the list of squares:\n",
    "import threading\n",
    "def square(x):\n",
    "    print(x*x)\n",
    "\n",
    "thread = [threading.Thread(target=square, args=(i,)) for i in range(12)]\n",
    "for t in thread:\n",
    "    t.start()\n",
    "    \n",
    "#  Thread to print the list of cubes:\n",
    "def cube(x):\n",
    "    print(x*x*x)\n",
    "    \n",
    "thread2 = [threading.Thread(target=cube, args=(i,)) for i in range(12)]\n",
    "for t2 in thread2:\n",
    "    t2.start()"
   ]
  },
  {
   "cell_type": "markdown",
   "id": "5adecfaa-3e87-48df-9396-1079ffeaf31e",
   "metadata": {},
   "source": [
    "Q5. State advantages and disadvantages of multithreading."
   ]
  },
  {
   "cell_type": "markdown",
   "id": "cbba080e-ef28-4f25-83ee-a72e45c217bb",
   "metadata": {},
   "source": [
    "Ans:\n",
    "    Advantages of multithreading:\n",
    "    \n",
    "        1.Responsiveness\n",
    "        \n",
    "        2.Resource Sharing\n",
    "        \n",
    "        3.Economy\n",
    "        \n",
    "        4.Scalability\n",
    "        \n",
    "        5.Better Communication\n",
    "        \n",
    "        6.Utilization of multiprocessor architecture\n",
    "        \n",
    "        7.Minimized system resource usage\n",
    "    \n",
    "    Disadvantages of multithreading:\n",
    "        1.It needs more careful synchronization.\n",
    "        2.It can consume a large space of stocks of blocked threads.\n",
    "        3.It needs support for thread or process.\n",
    "        4.If a parent process has several threads for proper process functioning, the child processes should also be multithreaded because they may be required.\n",
    "        5.It imposes context switching overhead."
   ]
  },
  {
   "cell_type": "markdown",
   "id": "96ea5125-381b-40ed-9a2e-b91d506ede43",
   "metadata": {},
   "source": [
    "Q6. Explain deadlocks and race conditions."
   ]
  },
  {
   "cell_type": "markdown",
   "id": "3b63e678-5a85-4fda-9f2e-e5da951f6ef6",
   "metadata": {},
   "source": [
    "Ans:\n",
    "\n",
    "    1. Deadlocks: Deadlock describes a condition in which two or more threads are blocked (hung) forever because they are waiting for each other.\n",
    "    \n",
    "    2. race conditions: A race condition occurs when two threads access a shared variable at the same time. The first thread reads the variable, and the second thread reads the same value from the variable."
   ]
  },
  {
   "cell_type": "code",
   "execution_count": null,
   "id": "bd1bb83c-ed3a-4ab7-944f-2de3ceb36f1e",
   "metadata": {},
   "outputs": [],
   "source": []
  }
 ],
 "metadata": {
  "kernelspec": {
   "display_name": "Python 3 (ipykernel)",
   "language": "python",
   "name": "python3"
  },
  "language_info": {
   "codemirror_mode": {
    "name": "ipython",
    "version": 3
   },
   "file_extension": ".py",
   "mimetype": "text/x-python",
   "name": "python",
   "nbconvert_exporter": "python",
   "pygments_lexer": "ipython3",
   "version": "3.10.8"
  }
 },
 "nbformat": 4,
 "nbformat_minor": 5
}
